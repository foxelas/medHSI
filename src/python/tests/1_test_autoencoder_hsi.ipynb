{
 "cells": [
  {
   "cell_type": "code",
   "execution_count": 1,
   "id": "d807b084",
   "metadata": {},
   "outputs": [],
   "source": [
    "import matplotlib.pyplot as plt\n",
    "import numpy as np\n",
    "import tensorflow as tf\n",
    "\n",
    "from sklearn.metrics import accuracy_score, precision_score, recall_score\n",
    "from sklearn.model_selection import train_test_split\n",
    "from tensorflow.keras import layers, losses\n",
    "from tensorflow.keras.datasets import fashion_mnist\n",
    "from tensorflow.keras.models import Model"
   ]
  },
  {
   "cell_type": "code",
   "execution_count": 2,
   "id": "722b7f26",
   "metadata": {},
   "outputs": [
    {
     "name": "stdout",
     "output_type": "stream",
     "text": [
      "D:\\elena\\onedrive\\OneDrive - 東工大未来研情報イノベーションコア\\titech\\research\\experiments\\medHSI\\src\\python\n"
     ]
    },
    {
     "data": {
      "text/plain": [
       "['D:\\\\elena\\\\onedrive\\\\OneDrive - 東工大未来研情報イノベーションコア\\\\titech\\\\research\\\\experiments\\\\medHSI\\\\src\\\\python\\\\tests',\n",
       " 'D:\\\\elena\\\\Google Drive\\\\titech\\\\research\\\\experiments\\\\macroHSI\\\\src\\\\python\\\\MacroHSI\\\\macrohsi\\\\tests',\n",
       " 'D:\\\\elena\\\\Google Drive\\\\titech\\\\research\\\\experiments\\\\macroHSI\\\\src\\\\python\\\\MacroHSI\\\\macrohsi\\\\tools',\n",
       " 'C:\\\\Users\\\\foxel\\\\anaconda3\\\\envs\\\\hsi-dev\\\\python38.zip',\n",
       " 'C:\\\\Users\\\\foxel\\\\anaconda3\\\\envs\\\\hsi-dev\\\\DLLs',\n",
       " 'C:\\\\Users\\\\foxel\\\\anaconda3\\\\envs\\\\hsi-dev\\\\lib',\n",
       " 'C:\\\\Users\\\\foxel\\\\anaconda3\\\\envs\\\\hsi-dev',\n",
       " '',\n",
       " 'C:\\\\Users\\\\foxel\\\\anaconda3\\\\envs\\\\hsi-dev\\\\lib\\\\site-packages',\n",
       " 'C:\\\\Users\\\\foxel\\\\anaconda3\\\\envs\\\\hsi-dev\\\\lib\\\\site-packages\\\\win32',\n",
       " 'C:\\\\Users\\\\foxel\\\\anaconda3\\\\envs\\\\hsi-dev\\\\lib\\\\site-packages\\\\win32\\\\lib',\n",
       " 'C:\\\\Users\\\\foxel\\\\anaconda3\\\\envs\\\\hsi-dev\\\\lib\\\\site-packages\\\\Pythonwin',\n",
       " 'C:\\\\Users\\\\foxel\\\\anaconda3\\\\envs\\\\hsi-dev\\\\lib\\\\site-packages\\\\IPython\\\\extensions',\n",
       " 'C:\\\\Users\\\\foxel\\\\.ipython',\n",
       " 'D:\\\\elena\\\\onedrive\\\\OneDrive - 東工大未来研情報イノベーションコア\\\\titech\\\\research\\\\experiments\\\\medHSI\\\\src\\\\python\\\\tools']"
      ]
     },
     "execution_count": 2,
     "metadata": {},
     "output_type": "execute_result"
    }
   ],
   "source": [
    "import sys\n",
    "import os\n",
    "\n",
    "module_path = os.path.abspath(os.path.join('..'))\n",
    "if module_path not in sys.path:\n",
    "    sys.path.append(module_path+\"\\\\tools\")\n",
    "import hsi_io as io\n",
    "import hsi_decompositions as dc\n",
    "print(module_path)\n",
    "sys.path\n"
   ]
  },
  {
   "cell_type": "code",
   "execution_count": 3,
   "id": "33779d90",
   "metadata": {},
   "outputs": [
    {
     "data": {
      "text/plain": [
       "['Data Settings',\n",
       " 'Directories',\n",
       " 'Folder Names',\n",
       " 'File Names',\n",
       " 'Run Settings',\n",
       " 'Save Settings']"
      ]
     },
     "execution_count": 3,
     "metadata": {},
     "output_type": "execute_result"
    }
   ],
   "source": [
    "import configparser\n",
    "\n",
    "settings_file = os.path.dirname(os.path.dirname(module_path)) + \"\\\\conf\" + \"\\\\config.ini\"\n",
    "settings_file\n",
    "\n",
    "config = configparser.ConfigParser()\n",
    "config.read(settings_file, encoding = 'utf-8')\n",
    "config.sections()"
   ]
  },
  {
   "cell_type": "code",
   "execution_count": 4,
   "id": "8ac56897",
   "metadata": {},
   "outputs": [
    {
     "data": {
      "text/plain": [
       "'D:\\\\elena\\\\mspi\\\\output\\\\000-Datasets\\\\hsi_normalized_full.h5'"
      ]
     },
     "execution_count": 4,
     "metadata": {},
     "output_type": "execute_result"
    }
   ],
   "source": [
    "fpath = config['Directories']['outputDir'] + \"000-Datasets\" + \"\\\\hsi_normalized_full.h5\"  \n",
    "fpath\n"
   ]
  },
  {
   "cell_type": "code",
   "execution_count": 5,
   "id": "cf45736c",
   "metadata": {},
   "outputs": [
    {
     "data": {
      "text/plain": [
       "['sample150',\n",
       " 'sample153',\n",
       " 'sample157',\n",
       " 'sample160',\n",
       " 'sample163',\n",
       " 'sample166',\n",
       " 'sample169',\n",
       " 'sample172',\n",
       " 'sample175',\n",
       " 'sample178',\n",
       " 'sample181',\n",
       " 'sample184',\n",
       " 'sample187',\n",
       " 'sample190',\n",
       " 'sample193',\n",
       " 'sample196',\n",
       " 'sample199',\n",
       " 'sample205',\n",
       " 'sample209',\n",
       " 'sample212']"
      ]
     },
     "execution_count": 5,
     "metadata": {},
     "output_type": "execute_result"
    }
   ],
   "source": [
    "f = io.load_from_h5(fpath)\n",
    "list(f.keys())\n"
   ]
  },
  {
   "cell_type": "code",
   "execution_count": 6,
   "id": "7eff30df",
   "metadata": {},
   "outputs": [
    {
     "name": "stdout",
     "output_type": "stream",
     "text": [
      "(311, 158, 180)\n",
      "(311, 198, 324)\n",
      "(311, 132, 108)\n",
      "(311, 120, 164)\n",
      "(311, 72, 80)\n",
      "(311, 244, 308)\n",
      "(311, 208, 224)\n",
      "(311, 244, 212)\n",
      "(311, 234, 212)\n",
      "(311, 258, 424)\n",
      "(311, 342, 332)\n",
      "(311, 282, 436)\n",
      "(311, 376, 236)\n",
      "(311, 232, 428)\n",
      "(311, 392, 236)\n",
      "(311, 126, 128)\n",
      "(311, 222, 232)\n",
      "(311, 392, 696)\n",
      "(311, 974, 1356)\n",
      "(311, 280, 196)\n"
     ]
    }
   ],
   "source": [
    "for keyz in list(f.keys()):\n",
    "    print(f[keyz].shape)"
   ]
  },
  {
   "cell_type": "code",
   "execution_count": 8,
   "id": "ebeaa071",
   "metadata": {},
   "outputs": [
    {
     "ename": "TypeError",
     "evalue": "'tuple' object is not callable",
     "output_type": "error",
     "traceback": [
      "\u001b[1;31m---------------------------------------------------------------------------\u001b[0m",
      "\u001b[1;31mTypeError\u001b[0m                                 Traceback (most recent call last)",
      "\u001b[1;32m~\\AppData\\Local\\Temp/ipykernel_4028/249756135.py\u001b[0m in \u001b[0;36m<module>\u001b[1;34m\u001b[0m\n\u001b[0;32m      1\u001b[0m \u001b[1;31m#dataz =  io.load_from_h5(fpath)\u001b[0m\u001b[1;33m\u001b[0m\u001b[1;33m\u001b[0m\u001b[1;33m\u001b[0m\u001b[0m\n\u001b[1;32m----> 2\u001b[1;33m \u001b[0mdataList\u001b[0m \u001b[1;33m=\u001b[0m \u001b[0mio\u001b[0m\u001b[1;33m.\u001b[0m\u001b[0mload_dataset\u001b[0m\u001b[1;33m(\u001b[0m\u001b[0mfpath\u001b[0m\u001b[1;33m,\u001b[0m \u001b[1;34m'image'\u001b[0m\u001b[1;33m)\u001b[0m\u001b[1;33m\u001b[0m\u001b[1;33m\u001b[0m\u001b[0m\n\u001b[0m\u001b[0;32m      3\u001b[0m \u001b[0mprint\u001b[0m\u001b[1;33m(\u001b[0m\u001b[1;34m\"images in dataset\"\u001b[0m\u001b[1;33m,\u001b[0m \u001b[0mlen\u001b[0m\u001b[1;33m(\u001b[0m\u001b[0mdataList\u001b[0m\u001b[1;33m)\u001b[0m\u001b[1;33m)\u001b[0m\u001b[1;33m\u001b[0m\u001b[1;33m\u001b[0m\u001b[0m\n\u001b[0;32m      4\u001b[0m \u001b[0mprint\u001b[0m\u001b[1;33m(\u001b[0m\u001b[1;34m\"datatype \"\u001b[0m\u001b[1;33m,\u001b[0m \u001b[1;33m(\u001b[0m\u001b[0mdataList\u001b[0m\u001b[1;33m[\u001b[0m\u001b[1;36m0\u001b[0m\u001b[1;33m]\u001b[0m\u001b[1;33m)\u001b[0m\u001b[1;33m.\u001b[0m\u001b[0mdtype\u001b[0m\u001b[1;33m,\u001b[0m \u001b[1;34m\"1st image size\"\u001b[0m\u001b[1;33m,\u001b[0m \u001b[0mdataList\u001b[0m\u001b[1;33m[\u001b[0m\u001b[1;36m0\u001b[0m\u001b[1;33m]\u001b[0m\u001b[1;33m.\u001b[0m\u001b[0mshape\u001b[0m\u001b[1;33m)\u001b[0m\u001b[1;33m\u001b[0m\u001b[1;33m\u001b[0m\u001b[0m\n",
      "\u001b[1;32mD:\\elena\\onedrive\\OneDrive - 東工大未来研情報イノベーションコア\\titech\\research\\experiments\\medHSI\\src\\python\\tools\\hsi_io.py\u001b[0m in \u001b[0;36mload_dataset\u001b[1;34m(fpath, sampleType, ash5)\u001b[0m\n\u001b[0;32m     82\u001b[0m         \u001b[1;32melse\u001b[0m\u001b[1;33m:\u001b[0m\u001b[1;33m\u001b[0m\u001b[1;33m\u001b[0m\u001b[0m\n\u001b[0;32m     83\u001b[0m             \u001b[0mval\u001b[0m \u001b[1;33m=\u001b[0m \u001b[0mf\u001b[0m\u001b[1;33m[\u001b[0m\u001b[0mkeyz\u001b[0m\u001b[1;33m]\u001b[0m\u001b[1;33m[\u001b[0m\u001b[1;33m:\u001b[0m\u001b[1;33m]\u001b[0m\u001b[1;33m\u001b[0m\u001b[1;33m\u001b[0m\u001b[0m\n\u001b[1;32m---> 84\u001b[1;33m         \u001b[1;32mif\u001b[0m \u001b[0mval\u001b[0m\u001b[1;33m.\u001b[0m\u001b[0mshape\u001b[0m\u001b[1;33m[\u001b[0m\u001b[1;36m2\u001b[0m\u001b[1;33m]\u001b[0m \u001b[1;33m!=\u001b[0m \u001b[1;36m311\u001b[0m\u001b[1;33m:\u001b[0m\u001b[1;33m\u001b[0m\u001b[1;33m\u001b[0m\u001b[0m\n\u001b[0m\u001b[0;32m     85\u001b[0m             \u001b[0mval\u001b[0m \u001b[1;33m=\u001b[0m \u001b[0mnp\u001b[0m\u001b[1;33m.\u001b[0m\u001b[0mtranspose\u001b[0m\u001b[1;33m(\u001b[0m\u001b[0mval\u001b[0m\u001b[1;33m,\u001b[0m \u001b[1;33m[\u001b[0m\u001b[1;36m1\u001b[0m\u001b[1;33m,\u001b[0m \u001b[1;36m2\u001b[0m\u001b[1;33m,\u001b[0m \u001b[1;36m0\u001b[0m\u001b[1;33m]\u001b[0m\u001b[1;33m)\u001b[0m\u001b[1;33m\u001b[0m\u001b[1;33m\u001b[0m\u001b[0m\n\u001b[0;32m     86\u001b[0m         \u001b[0mhsiList\u001b[0m\u001b[1;33m.\u001b[0m\u001b[0mappend\u001b[0m\u001b[1;33m(\u001b[0m\u001b[0mval\u001b[0m\u001b[1;33m)\u001b[0m\u001b[1;33m\u001b[0m\u001b[1;33m\u001b[0m\u001b[0m\n",
      "\u001b[1;31mTypeError\u001b[0m: 'tuple' object is not callable"
     ]
    }
   ],
   "source": [
    "#dataz =  io.load_from_h5(fpath)\n",
    "dataList = io.load_dataset(fpath, 'image')\n",
    "print(\"images in dataset\", len(dataList))\n",
    "print(\"datatype \", (dataList[0]).dtype, \"1st image size\", dataList[0].shape)"
   ]
  },
  {
   "cell_type": "code",
   "execution_count": 11,
   "id": "aaae702e",
   "metadata": {},
   "outputs": [
    {
     "ename": "ValueError",
     "evalue": "Input array has to be 3-dimensional for grayscale images, or 4-dimensional with `multichannel=True` for color images.",
     "output_type": "error",
     "traceback": [
      "\u001b[1;31m---------------------------------------------------------------------------\u001b[0m",
      "\u001b[1;31mValueError\u001b[0m                                Traceback (most recent call last)",
      "\u001b[1;32m~\\AppData\\Local\\Temp/ipykernel_80456/1467612705.py\u001b[0m in \u001b[0;36m<module>\u001b[1;34m\u001b[0m\n\u001b[1;32m----> 1\u001b[1;33m \u001b[0mcroppedData\u001b[0m \u001b[1;33m=\u001b[0m \u001b[0mio\u001b[0m\u001b[1;33m.\u001b[0m\u001b[0mcenter_crop_list\u001b[0m\u001b[1;33m(\u001b[0m\u001b[0mdataList\u001b[0m\u001b[1;33m,\u001b[0m \u001b[1;36m70\u001b[0m\u001b[1;33m,\u001b[0m \u001b[1;36m70\u001b[0m\u001b[1;33m,\u001b[0m \u001b[1;32mTrue\u001b[0m\u001b[1;33m)\u001b[0m\u001b[1;33m\u001b[0m\u001b[1;33m\u001b[0m\u001b[0m\n\u001b[0m",
      "\u001b[1;32mD:\\elena\\onedrive\\OneDrive - 東工大未来研情報イノベーションコア\\titech\\research\\experiments\\medHSI\\src\\python\\tools\\hsi_io.py\u001b[0m in \u001b[0;36mcenter_crop_list\u001b[1;34m(dataList, targetHeight, targetWidth, showImage)\u001b[0m\n\u001b[0;32m    125\u001b[0m \u001b[1;33m\u001b[0m\u001b[0m\n\u001b[0;32m    126\u001b[0m     \u001b[1;32mif\u001b[0m \u001b[0mshowImage\u001b[0m\u001b[1;33m:\u001b[0m\u001b[1;33m\u001b[0m\u001b[1;33m\u001b[0m\u001b[0m\n\u001b[1;32m--> 127\u001b[1;33m         \u001b[0mshow_montage\u001b[0m\u001b[1;33m(\u001b[0m\u001b[0mcroppedData\u001b[0m\u001b[1;33m)\u001b[0m\u001b[1;33m\u001b[0m\u001b[1;33m\u001b[0m\u001b[0m\n\u001b[0m\u001b[0;32m    128\u001b[0m \u001b[1;33m\u001b[0m\u001b[0m\n\u001b[0;32m    129\u001b[0m     \u001b[1;32mreturn\u001b[0m \u001b[0mcroppedData\u001b[0m\u001b[1;33m\u001b[0m\u001b[1;33m\u001b[0m\u001b[0m\n",
      "\u001b[1;32mD:\\elena\\onedrive\\OneDrive - 東工大未来研情報イノベーションコア\\titech\\research\\experiments\\medHSI\\src\\python\\tools\\hsi_io.py\u001b[0m in \u001b[0;36mshow_montage\u001b[1;34m(hsiList, imgType, channel)\u001b[0m\n\u001b[0;32m    199\u001b[0m     \u001b[1;32mfor\u001b[0m \u001b[0mx\u001b[0m \u001b[1;32min\u001b[0m \u001b[0mhsiList\u001b[0m\u001b[1;33m:\u001b[0m\u001b[1;33m\u001b[0m\u001b[1;33m\u001b[0m\u001b[0m\n\u001b[0;32m    200\u001b[0m         \u001b[0mhsiList\u001b[0m \u001b[1;33m=\u001b[0m \u001b[0mget_display_image\u001b[0m\u001b[1;33m(\u001b[0m\u001b[0mx\u001b[0m\u001b[1;33m)\u001b[0m\u001b[1;33m\u001b[0m\u001b[1;33m\u001b[0m\u001b[0m\n\u001b[1;32m--> 201\u001b[1;33m     \u001b[0mm_fill\u001b[0m \u001b[1;33m=\u001b[0m \u001b[0mskimage\u001b[0m\u001b[1;33m.\u001b[0m\u001b[0mutil\u001b[0m\u001b[1;33m.\u001b[0m\u001b[0mmontage\u001b[0m\u001b[1;33m(\u001b[0m\u001b[0mhsiList\u001b[0m\u001b[1;33m,\u001b[0m \u001b[0mfill\u001b[0m\u001b[1;33m=\u001b[0m\u001b[1;33m(\u001b[0m\u001b[1;36m255\u001b[0m\u001b[1;33m,\u001b[0m \u001b[1;36m128\u001b[0m\u001b[1;33m,\u001b[0m \u001b[1;36m0\u001b[0m\u001b[1;33m)\u001b[0m\u001b[1;33m,\u001b[0m \u001b[0mmultichannel\u001b[0m\u001b[1;33m=\u001b[0m\u001b[1;32mTrue\u001b[0m\u001b[1;33m)\u001b[0m\u001b[1;33m\u001b[0m\u001b[1;33m\u001b[0m\u001b[0m\n\u001b[0m\u001b[0;32m    202\u001b[0m     \u001b[0mskimage\u001b[0m\u001b[1;33m.\u001b[0m\u001b[0mio\u001b[0m\u001b[1;33m.\u001b[0m\u001b[0mimsave\u001b[0m\u001b[1;33m(\u001b[0m\u001b[1;34m'montage_fill.jpg'\u001b[0m\u001b[1;33m,\u001b[0m \u001b[0mm_fill\u001b[0m\u001b[1;33m)\u001b[0m\u001b[1;33m\u001b[0m\u001b[1;33m\u001b[0m\u001b[0m\n\u001b[0;32m    203\u001b[0m \u001b[1;33m\u001b[0m\u001b[0m\n",
      "\u001b[1;32m~\\anaconda3\\envs\\hsi-dev\\lib\\site-packages\\skimage\\util\\_montage.py\u001b[0m in \u001b[0;36mmontage\u001b[1;34m(arr_in, fill, rescale_intensity, grid_shape, padding_width, multichannel)\u001b[0m\n\u001b[0;32m     95\u001b[0m \u001b[1;33m\u001b[0m\u001b[0m\n\u001b[0;32m     96\u001b[0m     \u001b[1;32mif\u001b[0m \u001b[0marr_in\u001b[0m\u001b[1;33m.\u001b[0m\u001b[0mndim\u001b[0m \u001b[1;33m!=\u001b[0m \u001b[1;36m4\u001b[0m\u001b[1;33m:\u001b[0m\u001b[1;33m\u001b[0m\u001b[1;33m\u001b[0m\u001b[0m\n\u001b[1;32m---> 97\u001b[1;33m         raise ValueError('Input array has to be 3-dimensional for grayscale '\n\u001b[0m\u001b[0;32m     98\u001b[0m                          \u001b[1;34m'images, or 4-dimensional with `multichannel=True` '\u001b[0m\u001b[1;33m\u001b[0m\u001b[1;33m\u001b[0m\u001b[0m\n\u001b[0;32m     99\u001b[0m                          'for color images.')\n",
      "\u001b[1;31mValueError\u001b[0m: Input array has to be 3-dimensional for grayscale images, or 4-dimensional with `multichannel=True` for color images."
     ]
    }
   ],
   "source": [
    "croppedData = io.center_crop_list(dataList, 70, 70, True)"
   ]
  },
  {
   "cell_type": "code",
   "execution_count": 10,
   "id": "991f9378",
   "metadata": {},
   "outputs": [
    {
     "name": "stdout",
     "output_type": "stream",
     "text": [
      "xtrain:  16 , xtest:  4\n"
     ]
    }
   ],
   "source": [
    "from sklearn.model_selection import train_test_split\n",
    "X_train, X_test = train_test_split(croppedData, test_size=0.2, random_state=42)\n",
    "print(\"xtrain: \", len(X_train),\", xtest: \", len(X_test))"
   ]
  },
  {
   "cell_type": "code",
   "execution_count": 78,
   "id": "e5cc06fd",
   "metadata": {},
   "outputs": [],
   "source": [
    "from keras.layers import Dense, Flatten, Reshape, Input, InputLayer\n",
    "from keras.models import Sequential, Model\n",
    "\n",
    "def build_autoencoder(img_shape, code_size):\n",
    "    # The encoder\n",
    "    encoder = Sequential()\n",
    "    encoder.add(InputLayer(img_shape))\n",
    "    encoder.add(Flatten())\n",
    "    encoder.add(Dense(code_size, activation='relu'))\n",
    "\n",
    "    # The decoder\n",
    "    decoder = Sequential()\n",
    "    decoder.add(InputLayer((code_size,)))\n",
    "    decoder.add(Dense(np.prod(img_shape), activation='sigmoid')) # np.prod(img_shape) is the same as 32*32*3, it's more generic than saying 3072\n",
    "    decoder.add(Reshape(img_shape))\n",
    "\n",
    "    return encoder, decoder"
   ]
  },
  {
   "cell_type": "code",
   "execution_count": 79,
   "id": "1d04df0a",
   "metadata": {},
   "outputs": [
    {
     "name": "stdout",
     "output_type": "stream",
     "text": [
      "Model: \"model_5\"\n",
      "_________________________________________________________________\n",
      " Layer (type)                Output Shape              Param #   \n",
      "=================================================================\n",
      " input_18 (InputLayer)       [(None, 311, 70, 70)]     0         \n",
      "                                                                 \n",
      " sequential_10 (Sequential)  (None, 1024)              1560474624\n",
      "                                                                 \n",
      " sequential_11 (Sequential)  (None, 311, 70, 70)       1561997500\n",
      "                                                                 \n",
      "=================================================================\n",
      "Total params: -1,172,495,172\n",
      "Trainable params: -1,172,495,172\n",
      "Non-trainable params: 0\n",
      "_________________________________________________________________\n",
      "None\n"
     ]
    }
   ],
   "source": [
    "img_shape = X_train[0].shape\n",
    "\n",
    "encoder, decoder = build_autoencoder(img_shape, 1024)\n",
    "\n",
    "inp = Input(img_shape)\n",
    "code = encoder(inp)\n",
    "reconstruction = decoder(code)\n",
    "\n",
    "autoencoder = Model(inp,reconstruction)\n",
    "#autoencoder.compile(optimizer='adamax', loss='mse')\n",
    "autoencoder.compile(optimizer='adam', loss=losses.MeanSquaredError())\n",
    "\n",
    "print(autoencoder.summary())"
   ]
  },
  {
   "cell_type": "code",
   "execution_count": null,
   "id": "01a57a2a",
   "metadata": {},
   "outputs": [
    {
     "name": "stdout",
     "output_type": "stream",
     "text": [
      "16\n",
      "(16, 311, 70, 70)\n",
      "Epoch 1/80\n",
      "1/1 [==============================] - 24s 24s/step - loss: 0.2498 - val_loss: 0.2499\n",
      "Epoch 2/80\n",
      "1/1 [==============================] - 7s 7s/step - loss: 0.2498 - val_loss: 0.2498\n",
      "Epoch 3/80\n",
      "1/1 [==============================] - 7s 7s/step - loss: 0.2498 - val_loss: 0.2498\n",
      "Epoch 4/80\n",
      "1/1 [==============================] - 7s 7s/step - loss: 0.2498 - val_loss: 0.2498\n",
      "Epoch 5/80\n",
      "1/1 [==============================] - 7s 7s/step - loss: 0.2497 - val_loss: 0.2498\n",
      "Epoch 6/80\n",
      "1/1 [==============================] - 7s 7s/step - loss: 0.2497 - val_loss: 0.2497\n",
      "Epoch 7/80\n",
      "1/1 [==============================] - 7s 7s/step - loss: 0.2497 - val_loss: 0.2497\n",
      "Epoch 8/80\n",
      "1/1 [==============================] - 7s 7s/step - loss: 0.2497 - val_loss: 0.2497\n",
      "Epoch 9/80\n",
      "1/1 [==============================] - 7s 7s/step - loss: 0.2496 - val_loss: 0.2496\n",
      "Epoch 10/80\n",
      "1/1 [==============================] - 7s 7s/step - loss: 0.2496 - val_loss: 0.2496\n",
      "Epoch 11/80\n",
      "1/1 [==============================] - 7s 7s/step - loss: 0.2496 - val_loss: 0.2496\n",
      "Epoch 12/80\n",
      "1/1 [==============================] - 7s 7s/step - loss: 0.2495 - val_loss: 0.2495\n",
      "Epoch 13/80\n",
      "1/1 [==============================] - 7s 7s/step - loss: 0.2495 - val_loss: 0.2495\n",
      "Epoch 14/80\n",
      "1/1 [==============================] - 8s 8s/step - loss: 0.2494 - val_loss: 0.2495\n",
      "Epoch 15/80\n",
      "1/1 [==============================] - 7s 7s/step - loss: 0.2494 - val_loss: 0.2494\n",
      "Epoch 16/80\n",
      "1/1 [==============================] - 7s 7s/step - loss: 0.2494 - val_loss: 0.2494\n",
      "Epoch 17/80\n",
      "1/1 [==============================] - 7s 7s/step - loss: 0.2493 - val_loss: 0.2493\n",
      "Epoch 18/80\n",
      "1/1 [==============================] - 7s 7s/step - loss: 0.2493 - val_loss: 0.2493\n",
      "Epoch 19/80\n",
      "1/1 [==============================] - 7s 7s/step - loss: 0.2492 - val_loss: 0.2492\n",
      "Epoch 20/80\n",
      "1/1 [==============================] - 7s 7s/step - loss: 0.2492 - val_loss: 0.2492\n",
      "Epoch 21/80\n",
      "1/1 [==============================] - 7s 7s/step - loss: 0.2491 - val_loss: 0.2491\n",
      "Epoch 22/80\n",
      "1/1 [==============================] - 7s 7s/step - loss: 0.2491 - val_loss: 0.2491\n",
      "Epoch 23/80\n",
      "1/1 [==============================] - 7s 7s/step - loss: 0.2490 - val_loss: 0.2490\n",
      "Epoch 24/80\n",
      "1/1 [==============================] - 7s 7s/step - loss: 0.2490 - val_loss: 0.2490\n",
      "Epoch 25/80\n",
      "1/1 [==============================] - 7s 7s/step - loss: 0.2489 - val_loss: 0.2489\n",
      "Epoch 26/80\n",
      "1/1 [==============================] - 7s 7s/step - loss: 0.2489 - val_loss: 0.2489\n",
      "Epoch 27/80\n",
      "1/1 [==============================] - 7s 7s/step - loss: 0.2488 - val_loss: 0.2488\n",
      "Epoch 28/80\n",
      "1/1 [==============================] - 7s 7s/step - loss: 0.2488 - val_loss: 0.2488\n",
      "Epoch 29/80\n",
      "1/1 [==============================] - 7s 7s/step - loss: 0.2487 - val_loss: 0.2487\n",
      "Epoch 30/80\n",
      "1/1 [==============================] - 7s 7s/step - loss: 0.2487 - val_loss: 0.2487\n",
      "Epoch 31/80\n",
      "1/1 [==============================] - 7s 7s/step - loss: 0.2486 - val_loss: 0.2486\n",
      "Epoch 32/80\n",
      "1/1 [==============================] - 7s 7s/step - loss: 0.2485 - val_loss: 0.2485\n",
      "Epoch 33/80\n",
      "1/1 [==============================] - 7s 7s/step - loss: 0.2485 - val_loss: 0.2485\n",
      "Epoch 34/80\n",
      "1/1 [==============================] - 7s 7s/step - loss: 0.2484 - val_loss: 0.2484\n",
      "Epoch 35/80\n",
      "1/1 [==============================] - 7s 7s/step - loss: 0.2484 - val_loss: 0.2483\n",
      "Epoch 36/80\n",
      "1/1 [==============================] - 8s 8s/step - loss: 0.2483 - val_loss: 0.2483\n",
      "Epoch 37/80\n",
      "1/1 [==============================] - 8s 8s/step - loss: 0.2482 - val_loss: 0.2482\n",
      "Epoch 38/80\n",
      "1/1 [==============================] - 8s 8s/step - loss: 0.2481 - val_loss: 0.2481\n",
      "Epoch 39/80\n",
      "1/1 [==============================] - 7s 7s/step - loss: 0.2481 - val_loss: 0.2480\n",
      "Epoch 40/80\n",
      "1/1 [==============================] - 7s 7s/step - loss: 0.2480 - val_loss: 0.2480\n",
      "Epoch 41/80\n"
     ]
    }
   ],
   "source": [
    "print(len(X_train))\n",
    "print(np.array(X_train).shape)\n",
    "X_train2 = np.array(X_train)\n",
    "X_test2 = np.array(X_test)\n",
    "history = autoencoder.fit(x=X_train2, y=X_train2, epochs=80,\n",
    "                validation_data=(X_test2, X_test2))"
   ]
  },
  {
   "cell_type": "code",
   "execution_count": 71,
   "id": "4bf04e8b",
   "metadata": {},
   "outputs": [
    {
     "data": {
      "image/png": "[encoded data removed]",
      "text/plain": [
       "<Figure size 432x288 with 1 Axes>"
      ]
     },
     "metadata": {
      "needs_background": "light"
     },
     "output_type": "display_data"
    }
   ],
   "source": [
    "plt.plot(history.history['loss'])\n",
    "plt.plot(history.history['val_loss'])\n",
    "plt.title('model loss')\n",
    "plt.ylabel('loss')\n",
    "plt.xlabel('epoch')\n",
    "plt.legend(['train', 'test'], loc='upper left')\n",
    "plt.show()"
   ]
  },
  {
   "cell_type": "code",
   "execution_count": null,
   "id": "b46d63a7",
   "metadata": {},
   "outputs": [],
   "source": []
  }
 ],
 "metadata": {
  "kernelspec": {
   "display_name": "Python 3 (ipykernel)",
   "language": "python",
   "name": "python3"
  },
  "language_info": {
   "codemirror_mode": {
    "name": "ipython",
    "version": 3
   },
   "file_extension": ".py",
   "mimetype": "text/x-python",
   "name": "python",
   "nbconvert_exporter": "python",
   "pygments_lexer": "ipython3",
   "version": "3.8.12"
  }
 },
 "nbformat": 4,
 "nbformat_minor": 5
}
