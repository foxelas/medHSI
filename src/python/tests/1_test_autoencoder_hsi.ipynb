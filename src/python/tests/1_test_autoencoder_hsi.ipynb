{
 "cells": [
  {
   "cell_type": "code",
   "execution_count": 1,
   "id": "d807b084",
   "metadata": {},
   "outputs": [],
   "source": [
    "import matplotlib.pyplot as plt\n",
    "import numpy as np\n",
    "import tensorflow as tf\n",
    "\n",
    "from sklearn.metrics import accuracy_score, precision_score, recall_score\n",
    "from sklearn.model_selection import train_test_split\n",
    "from tensorflow.keras import layers, losses\n",
    "from tensorflow.keras.datasets import fashion_mnist\n",
    "from tensorflow.keras.models import Model"
   ]
  },
  {
   "cell_type": "code",
   "execution_count": 2,
   "id": "722b7f26",
   "metadata": {},
   "outputs": [
    {
     "name": "stdout",
     "output_type": "stream",
     "text": [
      "D:\\elena\\onedrive\\OneDrive - 東工大未来研情報イノベーションコア\\titech\\research\\experiments\\medHSI\\src\\python\n"
     ]
    },
    {
     "data": {
      "text/plain": [
       "['D:\\\\elena\\\\onedrive\\\\OneDrive - 東工大未来研情報イノベーションコア\\\\titech\\\\research\\\\experiments\\\\medHSI\\\\src\\\\python\\\\tests',\n",
       " 'D:\\\\elena\\\\Google Drive\\\\titech\\\\research\\\\experiments\\\\macroHSI\\\\src\\\\python\\\\MacroHSI\\\\macrohsi\\\\tests',\n",
       " 'D:\\\\elena\\\\Google Drive\\\\titech\\\\research\\\\experiments\\\\macroHSI\\\\src\\\\python\\\\MacroHSI\\\\macrohsi\\\\tools',\n",
       " 'C:\\\\Users\\\\foxel\\\\anaconda3\\\\envs\\\\hsi-dev\\\\python38.zip',\n",
       " 'C:\\\\Users\\\\foxel\\\\anaconda3\\\\envs\\\\hsi-dev\\\\DLLs',\n",
       " 'C:\\\\Users\\\\foxel\\\\anaconda3\\\\envs\\\\hsi-dev\\\\lib',\n",
       " 'C:\\\\Users\\\\foxel\\\\anaconda3\\\\envs\\\\hsi-dev',\n",
       " '',\n",
       " 'C:\\\\Users\\\\foxel\\\\anaconda3\\\\envs\\\\hsi-dev\\\\lib\\\\site-packages',\n",
       " 'C:\\\\Users\\\\foxel\\\\anaconda3\\\\envs\\\\hsi-dev\\\\lib\\\\site-packages\\\\win32',\n",
       " 'C:\\\\Users\\\\foxel\\\\anaconda3\\\\envs\\\\hsi-dev\\\\lib\\\\site-packages\\\\win32\\\\lib',\n",
       " 'C:\\\\Users\\\\foxel\\\\anaconda3\\\\envs\\\\hsi-dev\\\\lib\\\\site-packages\\\\Pythonwin',\n",
       " 'C:\\\\Users\\\\foxel\\\\anaconda3\\\\envs\\\\hsi-dev\\\\lib\\\\site-packages\\\\IPython\\\\extensions',\n",
       " 'C:\\\\Users\\\\foxel\\\\.ipython',\n",
       " 'D:\\\\elena\\\\onedrive\\\\OneDrive - 東工大未来研情報イノベーションコア\\\\titech\\\\research\\\\experiments\\\\medHSI\\\\src\\\\python\\\\tools']"
      ]
     },
     "execution_count": 2,
     "metadata": {},
     "output_type": "execute_result"
    }
   ],
   "source": [
    "import sys\n",
    "import os\n",
    "\n",
    "module_path = os.path.abspath(os.path.join('..'))\n",
    "if module_path not in sys.path:\n",
    "    sys.path.append(module_path+\"\\\\tools\")\n",
    "import hsi_io as io\n",
    "import hsi_decompositions as dc\n",
    "print(module_path)\n",
    "sys.path\n"
   ]
  },
  {
   "cell_type": "code",
   "execution_count": 3,
   "id": "33779d90",
   "metadata": {},
   "outputs": [
    {
     "data": {
      "text/plain": [
       "['Data Settings',\n",
       " 'Directories',\n",
       " 'Folder Names',\n",
       " 'File Names',\n",
       " 'Run Settings',\n",
       " 'Save Settings']"
      ]
     },
     "execution_count": 3,
     "metadata": {},
     "output_type": "execute_result"
    }
   ],
   "source": [
    "import configparser\n",
    "\n",
    "settings_file = os.path.dirname(os.path.dirname(module_path)) + \"\\\\conf\" + \"\\\\config.ini\"\n",
    "settings_file\n",
    "\n",
    "config = configparser.ConfigParser()\n",
    "config.read(settings_file, encoding = 'utf-8')\n",
    "config.sections()"
   ]
  },
  {
   "cell_type": "code",
   "execution_count": 4,
   "id": "8ac56897",
   "metadata": {},
   "outputs": [
    {
     "data": {
      "text/plain": [
       "'D:\\\\elena\\\\mspi\\\\output\\\\000-Datasets\\\\hsi_normalized_full.h5'"
      ]
     },
     "execution_count": 4,
     "metadata": {},
     "output_type": "execute_result"
    }
   ],
   "source": [
    "fpath = config['Directories']['outputDir'] + \"000-Datasets\" + \"\\\\hsi_normalized_full.h5\"  \n",
    "fpath\n"
   ]
  },
  {
   "cell_type": "code",
   "execution_count": 5,
   "id": "cf45736c",
   "metadata": {},
   "outputs": [
    {
     "data": {
      "text/plain": [
       "['sample150',\n",
       " 'sample153',\n",
       " 'sample157',\n",
       " 'sample160',\n",
       " 'sample163',\n",
       " 'sample166',\n",
       " 'sample169',\n",
       " 'sample172',\n",
       " 'sample175',\n",
       " 'sample178',\n",
       " 'sample181',\n",
       " 'sample184',\n",
       " 'sample187',\n",
       " 'sample190',\n",
       " 'sample193',\n",
       " 'sample196']"
      ]
     },
     "execution_count": 5,
     "metadata": {},
     "output_type": "execute_result"
    }
   ],
   "source": [
    "f = io.load_from_h5(fpath)\n",
    "list(f.keys())\n"
   ]
  },
  {
   "cell_type": "code",
   "execution_count": 6,
   "id": "7eff30df",
   "metadata": {},
   "outputs": [
    {
     "name": "stdout",
     "output_type": "stream",
     "text": [
      "(311, 158, 180)\n",
      "(311, 198, 324)\n",
      "(311, 132, 108)\n",
      "(311, 120, 164)\n",
      "(311, 72, 80)\n",
      "(311, 244, 308)\n",
      "(311, 208, 224)\n",
      "(311, 244, 212)\n",
      "(311, 234, 212)\n",
      "(311, 258, 424)\n",
      "(311, 342, 332)\n",
      "(311, 282, 436)\n",
      "(311, 376, 236)\n",
      "(311, 232, 428)\n",
      "(311, 392, 236)\n",
      "(311, 126, 128)\n"
     ]
    }
   ],
   "source": [
    "for keyz in list(f.keys()):\n",
    "    print(f[keyz].shape)"
   ]
  },
  {
   "cell_type": "code",
   "execution_count": 12,
   "id": "ebeaa071",
   "metadata": {},
   "outputs": [
    {
     "name": "stdout",
     "output_type": "stream",
     "text": [
      "images in dataset 16\n",
      "datatype  float64\n"
     ]
    }
   ],
   "source": [
    "#dataz =  io.load_from_h5(fpath)\n",
    "dataList = io.load_dataset(fpath, 'image')\n",
    "print(\"images in dataset\", len(dataList))\n",
    "print(\"datatype \", (dataList[0]).dtype)\n",
    "\n",
    "#how to handle data with different size "
   ]
  },
  {
   "cell_type": "code",
   "execution_count": 11,
   "id": "c4075040",
   "metadata": {},
   "outputs": [
    {
     "ename": "AttributeError",
     "evalue": "'list' object has no attribute 'shape'",
     "output_type": "error",
     "traceback": [
      "\u001b[1;31m---------------------------------------------------------------------------\u001b[0m",
      "\u001b[1;31mAttributeError\u001b[0m                            Traceback (most recent call last)",
      "\u001b[1;32m~\\AppData\\Local\\Temp/ipykernel_9616/4261473345.py\u001b[0m in \u001b[0;36m<module>\u001b[1;34m\u001b[0m\n\u001b[0;32m      1\u001b[0m \u001b[1;32mfrom\u001b[0m \u001b[0msklearn\u001b[0m\u001b[1;33m.\u001b[0m\u001b[0mmodel_selection\u001b[0m \u001b[1;32mimport\u001b[0m \u001b[0mtrain_test_split\u001b[0m\u001b[1;33m\u001b[0m\u001b[1;33m\u001b[0m\u001b[0m\n\u001b[0;32m      2\u001b[0m \u001b[0mX_train\u001b[0m\u001b[1;33m,\u001b[0m \u001b[0mX_test\u001b[0m \u001b[1;33m=\u001b[0m \u001b[0mtrain_test_split\u001b[0m\u001b[1;33m(\u001b[0m\u001b[0mdataList\u001b[0m\u001b[1;33m,\u001b[0m \u001b[0mtest_size\u001b[0m\u001b[1;33m=\u001b[0m\u001b[1;36m0.1\u001b[0m\u001b[1;33m,\u001b[0m \u001b[0mrandom_state\u001b[0m\u001b[1;33m=\u001b[0m\u001b[1;36m42\u001b[0m\u001b[1;33m)\u001b[0m\u001b[1;33m\u001b[0m\u001b[1;33m\u001b[0m\u001b[0m\n\u001b[1;32m----> 3\u001b[1;33m \u001b[0mprint\u001b[0m\u001b[1;33m(\u001b[0m\u001b[0mX_train\u001b[0m\u001b[1;33m.\u001b[0m\u001b[0mshape\u001b[0m\u001b[1;33m,\u001b[0m \u001b[0mX_test\u001b[0m\u001b[1;33m.\u001b[0m\u001b[0mshape\u001b[0m\u001b[1;33m)\u001b[0m\u001b[1;33m\u001b[0m\u001b[1;33m\u001b[0m\u001b[0m\n\u001b[0m",
      "\u001b[1;31mAttributeError\u001b[0m: 'list' object has no attribute 'shape'"
     ]
    }
   ],
   "source": [
    "from sklearn.model_selection import train_test_split\n",
    "X_train, X_test = train_test_split(dataList, test_size=0.1, random_state=42)\n",
    "print(X_train.shape, X_test.shape)"
   ]
  },
  {
   "cell_type": "code",
   "execution_count": null,
   "id": "4cf6e846",
   "metadata": {},
   "outputs": [],
   "source": []
  }
 ],
 "metadata": {
  "kernelspec": {
   "display_name": "Python 3 (ipykernel)",
   "language": "python",
   "name": "python3"
  },
  "language_info": {
   "codemirror_mode": {
    "name": "ipython",
    "version": 3
   },
   "file_extension": ".py",
   "mimetype": "text/x-python",
   "name": "python",
   "nbconvert_exporter": "python",
   "pygments_lexer": "ipython3",
   "version": "3.8.12"
  }
 },
 "nbformat": 4,
 "nbformat_minor": 5
}
