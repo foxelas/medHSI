{
 "cells": [
  {
   "cell_type": "code",
   "execution_count": 1,
   "id": "d807b084",
   "metadata": {},
   "outputs": [],
   "source": [
    "import matplotlib.pyplot as plt\n",
    "import numpy as np\n",
    "import tensorflow as tf\n",
    "\n",
    "from sklearn.metrics import accuracy_score, precision_score, recall_score\n",
    "from sklearn.model_selection import train_test_split\n",
    "from tensorflow.keras import layers, losses\n",
    "from tensorflow.keras.datasets import fashion_mnist\n",
    "from tensorflow.keras.models import Model"
   ]
  },
  {
   "cell_type": "code",
   "execution_count": 2,
   "id": "722b7f26",
   "metadata": {},
   "outputs": [
    {
     "name": "stdout",
     "output_type": "stream",
     "text": [
      "Loading from settings .ini  D:\\elena\\onedrive\\OneDrive - 東工大未来研情報イノベーションコア\\titech\\research\\experiments\\medHSI\\conf\\config.ini\n",
      "D:\\elena\\onedrive\\OneDrive - 東工大未来研情報イノベーションコア\\titech\\research\\experiments\\medHSI\\src\\python\n"
     ]
    },
    {
     "data": {
      "text/plain": [
       "['D:\\\\elena\\\\onedrive\\\\OneDrive - 東工大未来研情報イノベーションコア\\\\titech\\\\research\\\\experiments\\\\medHSI\\\\src\\\\python\\\\tests',\n",
       " 'D:\\\\elena\\\\Google Drive\\\\titech\\\\research\\\\experiments\\\\macroHSI\\\\src\\\\python\\\\MacroHSI\\\\macrohsi\\\\tests',\n",
       " 'D:\\\\elena\\\\Google Drive\\\\titech\\\\research\\\\experiments\\\\macroHSI\\\\src\\\\python\\\\MacroHSI\\\\macrohsi\\\\tools',\n",
       " 'C:\\\\Users\\\\foxel\\\\anaconda3\\\\envs\\\\hsi-dev\\\\python38.zip',\n",
       " 'C:\\\\Users\\\\foxel\\\\anaconda3\\\\envs\\\\hsi-dev\\\\DLLs',\n",
       " 'C:\\\\Users\\\\foxel\\\\anaconda3\\\\envs\\\\hsi-dev\\\\lib',\n",
       " 'C:\\\\Users\\\\foxel\\\\anaconda3\\\\envs\\\\hsi-dev',\n",
       " '',\n",
       " 'C:\\\\Users\\\\foxel\\\\anaconda3\\\\envs\\\\hsi-dev\\\\lib\\\\site-packages',\n",
       " 'C:\\\\Users\\\\foxel\\\\anaconda3\\\\envs\\\\hsi-dev\\\\lib\\\\site-packages\\\\win32',\n",
       " 'C:\\\\Users\\\\foxel\\\\anaconda3\\\\envs\\\\hsi-dev\\\\lib\\\\site-packages\\\\win32\\\\lib',\n",
       " 'C:\\\\Users\\\\foxel\\\\anaconda3\\\\envs\\\\hsi-dev\\\\lib\\\\site-packages\\\\Pythonwin',\n",
       " 'C:\\\\Users\\\\foxel\\\\anaconda3\\\\envs\\\\hsi-dev\\\\lib\\\\site-packages\\\\IPython\\\\extensions',\n",
       " 'C:\\\\Users\\\\foxel\\\\.ipython',\n",
       " 'D:\\\\elena\\\\onedrive\\\\OneDrive - 東工大未来研情報イノベーションコア\\\\titech\\\\research\\\\experiments\\\\medHSI\\\\src\\\\python\\\\tools',\n",
       " 'D:\\\\elena\\\\onedrive\\\\OneDrive - 東工大未来研情報イノベーションコア\\\\titech\\\\research\\\\experiments\\\\medHSI\\\\src\\\\python\\\\tools']"
      ]
     },
     "execution_count": 2,
     "metadata": {},
     "output_type": "execute_result"
    }
   ],
   "source": [
    "import sys\n",
    "import os\n",
    "\n",
    "module_path = os.path.abspath(os.path.join('..'))\n",
    "if module_path not in sys.path:\n",
    "    sys.path.append(module_path+\"\\\\tools\")\n",
    "import hsi_io as io\n",
    "import hsi_decompositions as dc\n",
    "print(module_path)\n",
    "sys.path\n"
   ]
  },
  {
   "cell_type": "code",
   "execution_count": 3,
   "id": "33779d90",
   "metadata": {},
   "outputs": [
    {
     "name": "stdout",
     "output_type": "stream",
     "text": [
      "Loading from settings .ini  D:\\elena\\onedrive\\OneDrive - 東工大未来研情報イノベーションコア\\titech\\research\\experiments\\medHSI\\conf\\config.ini\n"
     ]
    },
    {
     "data": {
      "text/plain": [
       "['Data Settings',\n",
       " 'Directories',\n",
       " 'Folder Names',\n",
       " 'File Names',\n",
       " 'Run Settings',\n",
       " 'Save Settings']"
      ]
     },
     "execution_count": 3,
     "metadata": {},
     "output_type": "execute_result"
    }
   ],
   "source": [
    "conf = io.parse_config()\n",
    "conf.sections()"
   ]
  },
  {
   "cell_type": "code",
   "execution_count": 4,
   "id": "8ac56897",
   "metadata": {},
   "outputs": [
    {
     "data": {
      "text/plain": [
       "'D:\\\\elena\\\\mspi\\\\output\\\\000-Datasets\\\\hsi_normalized_full.h5'"
      ]
     },
     "execution_count": 4,
     "metadata": {},
     "output_type": "execute_result"
    }
   ],
   "source": [
    "fpath = conf['Directories']['outputDir'] + \"000-Datasets\" + \"\\\\hsi_normalized_full.h5\"  \n",
    "fpath\n"
   ]
  },
  {
   "cell_type": "code",
   "execution_count": 5,
   "id": "cf45736c",
   "metadata": {},
   "outputs": [
    {
     "data": {
      "text/plain": [
       "['sample150',\n",
       " 'sample153',\n",
       " 'sample157',\n",
       " 'sample160',\n",
       " 'sample163',\n",
       " 'sample166',\n",
       " 'sample169',\n",
       " 'sample172',\n",
       " 'sample175',\n",
       " 'sample178',\n",
       " 'sample181',\n",
       " 'sample184',\n",
       " 'sample187',\n",
       " 'sample190',\n",
       " 'sample193',\n",
       " 'sample196',\n",
       " 'sample199',\n",
       " 'sample205',\n",
       " 'sample209',\n",
       " 'sample212']"
      ]
     },
     "execution_count": 5,
     "metadata": {},
     "output_type": "execute_result"
    }
   ],
   "source": [
    "f = io.load_from_h5(fpath)\n",
    "list(f.keys())\n"
   ]
  },
  {
   "cell_type": "code",
   "execution_count": 6,
   "id": "7eff30df",
   "metadata": {},
   "outputs": [
    {
     "name": "stdout",
     "output_type": "stream",
     "text": [
      "(311, 158, 180)\n",
      "(311, 198, 324)\n",
      "(311, 132, 108)\n",
      "(311, 120, 164)\n",
      "(311, 72, 80)\n",
      "(311, 244, 308)\n",
      "(311, 208, 224)\n",
      "(311, 244, 212)\n",
      "(311, 234, 212)\n",
      "(311, 258, 424)\n",
      "(311, 342, 332)\n",
      "(311, 282, 436)\n",
      "(311, 376, 236)\n",
      "(311, 232, 428)\n",
      "(311, 392, 236)\n",
      "(311, 126, 128)\n",
      "(311, 222, 232)\n",
      "(311, 392, 696)\n",
      "(311, 974, 1356)\n",
      "(311, 280, 196)\n"
     ]
    }
   ],
   "source": [
    "for keyz in list(f.keys()):\n",
    "    print(f[keyz].shape)"
   ]
  },
  {
   "cell_type": "code",
   "execution_count": 7,
   "id": "ebeaa071",
   "metadata": {},
   "outputs": [
    {
     "name": "stdout",
     "output_type": "stream",
     "text": [
      "images in dataset 20\n",
      "datatype  float64 1st image size (158, 180, 311)\n"
     ]
    }
   ],
   "source": [
    "#dataz =  io.load_from_h5(fpath)\n",
    "dataList = io.load_dataset(fpath, 'image')\n",
    "print(\"images in dataset\", len(dataList))\n",
    "print(\"datatype \", (dataList[0]).dtype, \"1st image size\", dataList[0].shape)"
   ]
  },
  {
   "cell_type": "code",
   "execution_count": 8,
   "id": "aaae702e",
   "metadata": {},
   "outputs": [
    {
     "name": "stderr",
     "output_type": "stream",
     "text": [
      "C:\\Users\\foxel\\anaconda3\\envs\\hsi-dev\\lib\\site-packages\\scipy\\io\\matlab\\mio.py:226: MatReadWarning: Duplicate variable name \"None\" in stream - replacing previous with new\n",
      "Consider mio5.varmats_from_mat to split file into single variable files\n",
      "  matfile_dict = MR.get_variables(variable_names)\n",
      "Lossy conversion from float32 to uint8. Range [0, 1]. Convert image to uint8 prior to saving to suppress this warning.\n"
     ]
    }
   ],
   "source": [
    "croppedData = io.center_crop_list(dataList, 70, 70, True)"
   ]
  },
  {
   "cell_type": "code",
   "execution_count": 11,
   "id": "991f9378",
   "metadata": {},
   "outputs": [
    {
     "name": "stdout",
     "output_type": "stream",
     "text": [
      "xtrain:  16 , xtest:  4\n"
     ]
    }
   ],
   "source": [
    "from sklearn.model_selection import train_test_split\n",
    "X_train, X_test = train_test_split(croppedData, test_size=0.2, random_state=42)\n",
    "print(\"xtrain: \", len(X_train),\", xtest: \", len(X_test))"
   ]
  },
  {
   "cell_type": "code",
   "execution_count": 12,
   "id": "e5cc06fd",
   "metadata": {},
   "outputs": [],
   "source": [
    "from keras.layers import Dense, Flatten, Reshape, Input, InputLayer\n",
    "from keras.models import Sequential, Model\n",
    "\n",
    "def build_autoencoder(img_shape, code_size):\n",
    "    # The encoder\n",
    "    encoder = Sequential()\n",
    "    encoder.add(InputLayer(img_shape))\n",
    "    encoder.add(Flatten())\n",
    "    encoder.add(Dense(code_size, activation='relu'))\n",
    "\n",
    "    # The decoder\n",
    "    decoder = Sequential()\n",
    "    decoder.add(InputLayer((code_size,)))\n",
    "    decoder.add(Dense(np.prod(img_shape), activation='sigmoid')) # np.prod(img_shape) is the same as 32*32*3, it's more generic than saying 3072\n",
    "    decoder.add(Reshape(img_shape))\n",
    "\n",
    "    return encoder, decoder"
   ]
  },
  {
   "cell_type": "code",
   "execution_count": 13,
   "id": "1d04df0a",
   "metadata": {},
   "outputs": [
    {
     "name": "stdout",
     "output_type": "stream",
     "text": [
      "Model: \"model\"\n",
      "_________________________________________________________________\n",
      " Layer (type)                Output Shape              Param #   \n",
      "=================================================================\n",
      " input_3 (InputLayer)        [(None, 70, 70, 311)]     0         \n",
      "                                                                 \n",
      " sequential (Sequential)     (None, 256)               390118656 \n",
      "                                                                 \n",
      " sequential_1 (Sequential)   (None, 70, 70, 311)       391642300 \n",
      "                                                                 \n",
      "=================================================================\n",
      "Total params: 781,760,956\n",
      "Trainable params: 781,760,956\n",
      "Non-trainable params: 0\n",
      "_________________________________________________________________\n",
      "None\n"
     ]
    }
   ],
   "source": [
    "img_shape = X_train[0].shape\n",
    "\n",
    "encoder, decoder = build_autoencoder(img_shape, 256)\n",
    "\n",
    "inp = Input(img_shape)\n",
    "code = encoder(inp)\n",
    "reconstruction = decoder(code)\n",
    "\n",
    "autoencoder = Model(inp,reconstruction)\n",
    "#autoencoder.compile(optimizer='adamax', loss='mse')\n",
    "autoencoder.compile(optimizer='adam', loss=losses.MeanSquaredError())\n",
    "\n",
    "print(autoencoder.summary())"
   ]
  },
  {
   "cell_type": "code",
   "execution_count": 14,
   "id": "01a57a2a",
   "metadata": {},
   "outputs": [
    {
     "name": "stdout",
     "output_type": "stream",
     "text": [
      "16\n",
      "(16, 70, 70, 311)\n",
      "Epoch 1/80\n",
      "1/1 [==============================] - 3s 3s/step - loss: 0.2498 - val_loss: 0.2499\n",
      "Epoch 2/80\n",
      "1/1 [==============================] - 2s 2s/step - loss: 0.2498 - val_loss: 0.2498\n",
      "Epoch 3/80\n",
      "1/1 [==============================] - 2s 2s/step - loss: 0.2498 - val_loss: 0.2498\n",
      "Epoch 4/80\n",
      "1/1 [==============================] - 2s 2s/step - loss: 0.2498 - val_loss: 0.2498\n",
      "Epoch 5/80\n",
      "1/1 [==============================] - 2s 2s/step - loss: 0.2497 - val_loss: 0.2498\n",
      "Epoch 6/80\n",
      "1/1 [==============================] - 2s 2s/step - loss: 0.2497 - val_loss: 0.2497\n",
      "Epoch 7/80\n",
      "1/1 [==============================] - 2s 2s/step - loss: 0.2497 - val_loss: 0.2497\n",
      "Epoch 8/80\n",
      "1/1 [==============================] - 2s 2s/step - loss: 0.2497 - val_loss: 0.2497\n",
      "Epoch 9/80\n",
      "1/1 [==============================] - 2s 2s/step - loss: 0.2496 - val_loss: 0.2496\n",
      "Epoch 10/80\n",
      "1/1 [==============================] - 2s 2s/step - loss: 0.2496 - val_loss: 0.2496\n",
      "Epoch 11/80\n",
      "1/1 [==============================] - 2s 2s/step - loss: 0.2496 - val_loss: 0.2496\n",
      "Epoch 12/80\n",
      "1/1 [==============================] - 2s 2s/step - loss: 0.2495 - val_loss: 0.2495\n",
      "Epoch 13/80\n",
      "1/1 [==============================] - 2s 2s/step - loss: 0.2495 - val_loss: 0.2495\n",
      "Epoch 14/80\n",
      "1/1 [==============================] - 2s 2s/step - loss: 0.2494 - val_loss: 0.2495\n",
      "Epoch 15/80\n",
      "1/1 [==============================] - 2s 2s/step - loss: 0.2494 - val_loss: 0.2494\n",
      "Epoch 16/80\n",
      "1/1 [==============================] - 2s 2s/step - loss: 0.2494 - val_loss: 0.2494\n",
      "Epoch 17/80\n",
      "1/1 [==============================] - 2s 2s/step - loss: 0.2493 - val_loss: 0.2493\n",
      "Epoch 18/80\n",
      "1/1 [==============================] - 2s 2s/step - loss: 0.2493 - val_loss: 0.2493\n",
      "Epoch 19/80\n",
      "1/1 [==============================] - 2s 2s/step - loss: 0.2492 - val_loss: 0.2492\n",
      "Epoch 20/80\n",
      "1/1 [==============================] - 2s 2s/step - loss: 0.2492 - val_loss: 0.2492\n",
      "Epoch 21/80\n",
      "1/1 [==============================] - 2s 2s/step - loss: 0.2491 - val_loss: 0.2491\n",
      "Epoch 22/80\n",
      "1/1 [==============================] - 2s 2s/step - loss: 0.2491 - val_loss: 0.2491\n",
      "Epoch 23/80\n",
      "1/1 [==============================] - 2s 2s/step - loss: 0.2490 - val_loss: 0.2490\n",
      "Epoch 24/80\n",
      "1/1 [==============================] - 2s 2s/step - loss: 0.2490 - val_loss: 0.2490\n",
      "Epoch 25/80\n",
      "1/1 [==============================] - 2s 2s/step - loss: 0.2489 - val_loss: 0.2489\n",
      "Epoch 26/80\n",
      "1/1 [==============================] - 2s 2s/step - loss: 0.2489 - val_loss: 0.2489\n",
      "Epoch 27/80\n",
      "1/1 [==============================] - 2s 2s/step - loss: 0.2488 - val_loss: 0.2488\n",
      "Epoch 28/80\n",
      "1/1 [==============================] - 2s 2s/step - loss: 0.2488 - val_loss: 0.2488\n",
      "Epoch 29/80\n",
      "1/1 [==============================] - 2s 2s/step - loss: 0.2487 - val_loss: 0.2487\n",
      "Epoch 30/80\n",
      "1/1 [==============================] - 2s 2s/step - loss: 0.2487 - val_loss: 0.2487\n",
      "Epoch 31/80\n",
      "1/1 [==============================] - 2s 2s/step - loss: 0.2486 - val_loss: 0.2486\n",
      "Epoch 32/80\n",
      "1/1 [==============================] - 2s 2s/step - loss: 0.2486 - val_loss: 0.2486\n",
      "Epoch 33/80\n",
      "1/1 [==============================] - 2s 2s/step - loss: 0.2485 - val_loss: 0.2485\n",
      "Epoch 34/80\n",
      "1/1 [==============================] - 2s 2s/step - loss: 0.2484 - val_loss: 0.2484\n",
      "Epoch 35/80\n",
      "1/1 [==============================] - 2s 2s/step - loss: 0.2484 - val_loss: 0.2484\n",
      "Epoch 36/80\n",
      "1/1 [==============================] - 2s 2s/step - loss: 0.2483 - val_loss: 0.2483\n",
      "Epoch 37/80\n",
      "1/1 [==============================] - 2s 2s/step - loss: 0.2483 - val_loss: 0.2483\n",
      "Epoch 38/80\n",
      "1/1 [==============================] - 2s 2s/step - loss: 0.2482 - val_loss: 0.2482\n",
      "Epoch 39/80\n",
      "1/1 [==============================] - 2s 2s/step - loss: 0.2481 - val_loss: 0.2481\n",
      "Epoch 40/80\n",
      "1/1 [==============================] - 2s 2s/step - loss: 0.2481 - val_loss: 0.2481\n",
      "Epoch 41/80\n",
      "1/1 [==============================] - 2s 2s/step - loss: 0.2480 - val_loss: 0.2480\n",
      "Epoch 42/80\n",
      "1/1 [==============================] - 2s 2s/step - loss: 0.2479 - val_loss: 0.2479\n",
      "Epoch 43/80\n",
      "1/1 [==============================] - 2s 2s/step - loss: 0.2479 - val_loss: 0.2479\n",
      "Epoch 44/80\n",
      "1/1 [==============================] - 2s 2s/step - loss: 0.2478 - val_loss: 0.2478\n",
      "Epoch 45/80\n",
      "1/1 [==============================] - 2s 2s/step - loss: 0.2477 - val_loss: 0.2477\n",
      "Epoch 46/80\n",
      "1/1 [==============================] - 2s 2s/step - loss: 0.2476 - val_loss: 0.2476\n",
      "Epoch 47/80\n",
      "1/1 [==============================] - 2s 2s/step - loss: 0.2476 - val_loss: 0.2475\n",
      "Epoch 48/80\n",
      "1/1 [==============================] - 2s 2s/step - loss: 0.2475 - val_loss: 0.2475\n",
      "Epoch 49/80\n",
      "1/1 [==============================] - 2s 2s/step - loss: 0.2474 - val_loss: 0.2474\n",
      "Epoch 50/80\n",
      "1/1 [==============================] - 2s 2s/step - loss: 0.2473 - val_loss: 0.2473\n",
      "Epoch 51/80\n",
      "1/1 [==============================] - 2s 2s/step - loss: 0.2472 - val_loss: 0.2472\n",
      "Epoch 52/80\n",
      "1/1 [==============================] - 2s 2s/step - loss: 0.2471 - val_loss: 0.2471\n",
      "Epoch 53/80\n",
      "1/1 [==============================] - 2s 2s/step - loss: 0.2470 - val_loss: 0.2470\n",
      "Epoch 54/80\n",
      "1/1 [==============================] - 2s 2s/step - loss: 0.2469 - val_loss: 0.2469\n",
      "Epoch 55/80\n",
      "1/1 [==============================] - 2s 2s/step - loss: 0.2468 - val_loss: 0.2468\n",
      "Epoch 56/80\n",
      "1/1 [==============================] - 2s 2s/step - loss: 0.2467 - val_loss: 0.2466\n",
      "Epoch 57/80\n",
      "1/1 [==============================] - 2s 2s/step - loss: 0.2465 - val_loss: 0.2465\n",
      "Epoch 58/80\n",
      "1/1 [==============================] - 2s 2s/step - loss: 0.2464 - val_loss: 0.2464\n",
      "Epoch 59/80\n",
      "1/1 [==============================] - 2s 2s/step - loss: 0.2462 - val_loss: 0.2462\n",
      "Epoch 60/80\n",
      "1/1 [==============================] - 2s 2s/step - loss: 0.2460 - val_loss: 0.2460\n",
      "Epoch 61/80\n",
      "1/1 [==============================] - 2s 2s/step - loss: 0.2458 - val_loss: 0.2458\n",
      "Epoch 62/80\n",
      "1/1 [==============================] - 2s 2s/step - loss: 0.2456 - val_loss: 0.2456\n",
      "Epoch 63/80\n",
      "1/1 [==============================] - 2s 2s/step - loss: 0.2454 - val_loss: 0.2454\n",
      "Epoch 64/80\n",
      "1/1 [==============================] - 2s 2s/step - loss: 0.2451 - val_loss: 0.2451\n",
      "Epoch 65/80\n",
      "1/1 [==============================] - 2s 2s/step - loss: 0.2448 - val_loss: 0.2448\n",
      "Epoch 66/80\n",
      "1/1 [==============================] - 2s 2s/step - loss: 0.2444 - val_loss: 0.2445\n",
      "Epoch 67/80\n",
      "1/1 [==============================] - 2s 2s/step - loss: 0.2440 - val_loss: 0.2441\n",
      "Epoch 68/80\n",
      "1/1 [==============================] - 2s 2s/step - loss: 0.2436 - val_loss: 0.2437\n",
      "Epoch 69/80\n",
      "1/1 [==============================] - 2s 2s/step - loss: 0.2430 - val_loss: 0.2432\n",
      "Epoch 70/80\n",
      "1/1 [==============================] - 2s 2s/step - loss: 0.2424 - val_loss: 0.2427\n",
      "Epoch 71/80\n",
      "1/1 [==============================] - 2s 2s/step - loss: 0.2418 - val_loss: 0.2420\n",
      "Epoch 72/80\n",
      "1/1 [==============================] - 2s 2s/step - loss: 0.2410 - val_loss: 0.2413\n",
      "Epoch 73/80\n",
      "1/1 [==============================] - 2s 2s/step - loss: 0.2401 - val_loss: 0.2405\n",
      "Epoch 74/80\n",
      "1/1 [==============================] - 2s 2s/step - loss: 0.2390 - val_loss: 0.2396\n",
      "Epoch 75/80\n",
      "1/1 [==============================] - 2s 2s/step - loss: 0.2379 - val_loss: 0.2385\n",
      "Epoch 76/80\n",
      "1/1 [==============================] - 2s 2s/step - loss: 0.2365 - val_loss: 0.2373\n",
      "Epoch 77/80\n",
      "1/1 [==============================] - 2s 2s/step - loss: 0.2349 - val_loss: 0.2359\n",
      "Epoch 78/80\n",
      "1/1 [==============================] - 2s 2s/step - loss: 0.2331 - val_loss: 0.2343\n",
      "Epoch 79/80\n",
      "1/1 [==============================] - 2s 2s/step - loss: 0.2310 - val_loss: 0.2325\n",
      "Epoch 80/80\n",
      "1/1 [==============================] - 2s 2s/step - loss: 0.2286 - val_loss: 0.2303\n"
     ]
    }
   ],
   "source": [
    "print(len(X_train))\n",
    "print(np.array(X_train).shape)\n",
    "X_train2 = np.array(X_train)\n",
    "X_test2 = np.array(X_test)\n",
    "history = autoencoder.fit(x=X_train2, y=X_train2, epochs=80,\n",
    "                validation_data=(X_test2, X_test2))"
   ]
  },
  {
   "cell_type": "code",
   "execution_count": 15,
   "id": "4bf04e8b",
   "metadata": {},
   "outputs": [
    {
     "data": {
      "image/png": "[encoded data removed]",
      "text/plain": [
       "<Figure size 432x288 with 1 Axes>"
      ]
     },
     "metadata": {
      "needs_background": "light"
     },
     "output_type": "display_data"
    }
   ],
   "source": [
    "plt.plot(history.history['loss'])\n",
    "plt.plot(history.history['val_loss'])\n",
    "plt.title('model loss')\n",
    "plt.ylabel('loss')\n",
    "plt.xlabel('epoch')\n",
    "plt.legend(['train', 'test'], loc='upper left')\n",
    "plt.show()"
   ]
  },
  {
   "cell_type": "code",
   "execution_count": null,
   "id": "b46d63a7",
   "metadata": {},
   "outputs": [],
   "source": []
  }
 ],
 "metadata": {
  "kernelspec": {
   "display_name": "Python 3 (ipykernel)",
   "language": "python",
   "name": "python3"
  },
  "language_info": {
   "codemirror_mode": {
    "name": "ipython",
    "version": 3
   },
   "file_extension": ".py",
   "mimetype": "text/x-python",
   "name": "python",
   "nbconvert_exporter": "python",
   "pygments_lexer": "ipython3",
   "version": "3.8.12"
  }
 },
 "nbformat": 4,
 "nbformat_minor": 5
}
